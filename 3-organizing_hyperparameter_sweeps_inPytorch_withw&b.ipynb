{
 "cells": [
  {
   "cell_type": "code",
   "execution_count": 1,
   "id": "6f34b9df-7990-4e36-86b1-5d99e82c853d",
   "metadata": {
    "tags": []
   },
   "outputs": [
    {
     "name": "stderr",
     "output_type": "stream",
     "text": [
      "\u001b[34m\u001b[1mwandb\u001b[0m: \u001b[32m\u001b[41mERROR\u001b[0m Failed to detect the name of this notebook. You can set it manually with the WANDB_NOTEBOOK_NAME environment variable to enable code saving.\n",
      "\u001b[34m\u001b[1mwandb\u001b[0m: Currently logged in as: \u001b[33mpaul-mriganka\u001b[0m (\u001b[33mpaul-mriganka-personal\u001b[0m) to \u001b[32mhttps://api.wandb.ai\u001b[0m. Use \u001b[1m`wandb login --relogin`\u001b[0m to force relogin\n"
     ]
    },
    {
     "data": {
      "text/plain": [
       "True"
      ]
     },
     "execution_count": 1,
     "metadata": {},
     "output_type": "execute_result"
    }
   ],
   "source": [
    "import wandb\n",
    "import math\n",
    "import random\n",
    "wandb.login()"
   ]
  },
  {
   "cell_type": "markdown",
   "id": "d7426742-abc4-4b0c-84e2-65a97e50b964",
   "metadata": {},
   "source": [
    "### Define search"
   ]
  },
  {
   "cell_type": "code",
   "execution_count": 2,
   "id": "fde0f83b-7aca-4af1-8459-d38c249e5cfd",
   "metadata": {
    "tags": []
   },
   "outputs": [],
   "source": [
    "sweep_config = {\n",
    "    'method': 'random'\n",
    "}"
   ]
  },
  {
   "cell_type": "code",
   "execution_count": 3,
   "id": "24612b3d-f36e-4dc5-9233-53fd8e1447e0",
   "metadata": {
    "tags": []
   },
   "outputs": [],
   "source": [
    "metric = {\n",
    "    'name': 'loss',\n",
    "    'goal': 'minimize'   \n",
    "}\n",
    "\n",
    "sweep_config['metric'] = metric"
   ]
  },
  {
   "cell_type": "code",
   "execution_count": 4,
   "id": "2f8afa6d-b7da-450a-994b-755a3b75427d",
   "metadata": {
    "tags": []
   },
   "outputs": [],
   "source": [
    "parameters_dict = {\n",
    "    'optimizer': {\n",
    "        'values': ['adam', 'sgd']\n",
    "        },\n",
    "    'fc_layer_size': {\n",
    "        'values': [128, 256, 512]\n",
    "        },\n",
    "    'dropout': {\n",
    "          'values': [0.3, 0.4, 0.5]\n",
    "        },\n",
    "}"
   ]
  },
  {
   "cell_type": "code",
   "execution_count": 5,
   "id": "8a63a232-8c96-4836-b81b-6c77726110c6",
   "metadata": {
    "tags": []
   },
   "outputs": [],
   "source": [
    "sweep_config['parameters'] = parameters_dict"
   ]
  },
  {
   "cell_type": "code",
   "execution_count": 6,
   "id": "fcd1c280-f85b-43e2-9d5c-1f24ee9ddb4f",
   "metadata": {
    "tags": []
   },
   "outputs": [],
   "source": [
    "parameters_dict.update({\n",
    "    'epochs': {\n",
    "        'value': 1}\n",
    "    })"
   ]
  },
  {
   "cell_type": "code",
   "execution_count": 7,
   "id": "a2c790c9-088a-439b-a3a6-4d198f399593",
   "metadata": {
    "tags": []
   },
   "outputs": [],
   "source": [
    "parameters_dict.update({\n",
    "    'learning_rate': {\n",
    "        # a flat distribution between 0 and 0.1\n",
    "        'distribution': 'uniform',\n",
    "        'min': 0,\n",
    "        'max': 0.1\n",
    "      },\n",
    "    'batch_size': {\n",
    "        # integers between 32 and 256\n",
    "        # with evenly-distributed logarithms \n",
    "        'distribution': 'q_log_uniform_values',\n",
    "        'q': 8,\n",
    "        'min': 32,\n",
    "        'max': 256,\n",
    "      }\n",
    "    })"
   ]
  },
  {
   "cell_type": "code",
   "execution_count": 8,
   "id": "e34b77ac-ea0c-4b34-b877-1e2a033d5191",
   "metadata": {
    "tags": []
   },
   "outputs": [
    {
     "name": "stdout",
     "output_type": "stream",
     "text": [
      "{'method': 'random',\n",
      " 'metric': {'goal': 'minimize', 'name': 'loss'},\n",
      " 'parameters': {'batch_size': {'distribution': 'q_log_uniform_values',\n",
      "                               'max': 256,\n",
      "                               'min': 32,\n",
      "                               'q': 8},\n",
      "                'dropout': {'values': [0.3, 0.4, 0.5]},\n",
      "                'epochs': {'value': 1},\n",
      "                'fc_layer_size': {'values': [128, 256, 512]},\n",
      "                'learning_rate': {'distribution': 'uniform',\n",
      "                                  'max': 0.1,\n",
      "                                  'min': 0},\n",
      "                'optimizer': {'values': ['adam', 'sgd']}}}\n"
     ]
    }
   ],
   "source": [
    "import pprint\n",
    "pprint.pprint(sweep_config)"
   ]
  },
  {
   "cell_type": "markdown",
   "id": "22691839-4fa6-4112-9ba2-25c2fdc6343a",
   "metadata": {},
   "source": [
    "### Initialize the sweep"
   ]
  },
  {
   "cell_type": "code",
   "execution_count": 9,
   "id": "53bffb07-ee1c-41ad-979e-8d5aefdcad03",
   "metadata": {
    "tags": []
   },
   "outputs": [
    {
     "name": "stdout",
     "output_type": "stream",
     "text": [
      "Create sweep with ID: kxjxl91q\n",
      "Sweep URL: https://wandb.ai/paul-mriganka-personal/pytorch-sweeps-demo/sweeps/kxjxl91q\n"
     ]
    }
   ],
   "source": [
    "sweep_id = wandb.sweep(sweep_config, project=\"pytorch-sweeps-demo\")"
   ]
  },
  {
   "cell_type": "markdown",
   "id": "74af3e63-4f9a-423f-b14e-9f59d2d3e6de",
   "metadata": {},
   "source": [
    "### Define your ML code"
   ]
  },
  {
   "cell_type": "code",
   "execution_count": 10,
   "id": "73a130a3-6600-427b-99f5-600e513a7888",
   "metadata": {
    "tags": []
   },
   "outputs": [],
   "source": [
    "import torch\n",
    "import torch.optim as optim\n",
    "import torch.nn.functional as F\n",
    "import torch.nn as nn\n",
    "from torchvision import datasets, transforms"
   ]
  },
  {
   "cell_type": "code",
   "execution_count": null,
   "id": "868b3b2b-fdba-4817-b290-82b8637d05da",
   "metadata": {},
   "outputs": [],
   "source": []
  },
  {
   "cell_type": "code",
   "execution_count": 11,
   "id": "d764c9d4-3405-4dca-84ac-9feaf2315007",
   "metadata": {
    "tags": []
   },
   "outputs": [],
   "source": [
    "device = torch.device(\"cuda\" if torch.cuda.is_available() else \"cpu\")\n",
    "\n",
    "def train(config=None):\n",
    "    # Initialize a new wandb run\n",
    "    with wandb.init(config=config):\n",
    "        # If called by wandb.agent, as below,\n",
    "        # this config will be set by Sweep Controller\n",
    "        config = wandb.config\n",
    "\n",
    "        loader = build_dataset(config.batch_size)\n",
    "        network = build_network(config.fc_layer_size, config.dropout)\n",
    "        optimizer = build_optimizer(network, config.optimizer, config.learning_rate)\n",
    "\n",
    "        for epoch in range(config.epochs):\n",
    "            avg_loss = train_epoch(network, loader, optimizer)\n",
    "            wandb.log({\"loss\": avg_loss, \"epoch\": epoch})           "
   ]
  },
  {
   "cell_type": "markdown",
   "id": "e39d2a33-ae06-443f-8062-0b614dbf9a02",
   "metadata": {},
   "source": [
    "- ```wandb.init()``` – Initialize a new W&B run. Each run is a single execution of the training function.\n",
    "- ```wandb.config``` – Pass sweep configuration with the hyperparameters you want to experiment with.\n",
    "- ```wandb.log()``` – Log the training loss for each epoch."
   ]
  },
  {
   "cell_type": "code",
   "execution_count": 12,
   "id": "0df33596-9fd4-42a9-bf8d-97bdcd42ce38",
   "metadata": {
    "tags": []
   },
   "outputs": [],
   "source": [
    "def build_dataset(batch_size):\n",
    "   \n",
    "    transform = transforms.Compose(\n",
    "        [transforms.ToTensor(),\n",
    "         transforms.Normalize((0.1307,), (0.3081,))])\n",
    "    # download MNIST training dataset\n",
    "    dataset = datasets.MNIST(\".\", train=True, download=True,\n",
    "                             transform=transform)\n",
    "    sub_dataset = torch.utils.data.Subset(\n",
    "        dataset, indices=range(0, len(dataset), 5))\n",
    "    loader = torch.utils.data.DataLoader(sub_dataset, batch_size=batch_size)\n",
    "\n",
    "    return loader\n",
    "\n",
    "\n",
    "def build_network(fc_layer_size, dropout):\n",
    "    network = nn.Sequential(  # fully-connected, single hidden layer\n",
    "        nn.Flatten(),\n",
    "        nn.Linear(784, fc_layer_size), nn.ReLU(),\n",
    "        nn.Dropout(dropout),\n",
    "        nn.Linear(fc_layer_size, 10),\n",
    "        nn.LogSoftmax(dim=1))\n",
    "\n",
    "    return network.to(device)\n",
    "        \n",
    "\n",
    "def build_optimizer(network, optimizer, learning_rate):\n",
    "    if optimizer == \"sgd\":\n",
    "        optimizer = optim.SGD(network.parameters(),\n",
    "                              lr=learning_rate, momentum=0.9)\n",
    "    elif optimizer == \"adam\":\n",
    "        optimizer = optim.Adam(network.parameters(),\n",
    "                               lr=learning_rate)\n",
    "    return optimizer\n",
    "\n",
    "\n",
    "def train_epoch(network, loader, optimizer):\n",
    "    cumu_loss = 0\n",
    "    for _, (data, target) in enumerate(loader):\n",
    "        data, target = data.to(device), target.to(device)\n",
    "        optimizer.zero_grad()\n",
    "\n",
    "        # ➡ Forward pass\n",
    "        loss = F.nll_loss(network(data), target)\n",
    "        cumu_loss += loss.item()\n",
    "\n",
    "        # ⬅ Backward pass + weight update\n",
    "        loss.backward()\n",
    "        optimizer.step()\n",
    "\n",
    "        wandb.log({\"batch loss\": loss.item()})\n",
    "\n",
    "    return cumu_loss / len(loader)"
   ]
  },
  {
   "cell_type": "markdown",
   "id": "41b4bea3-b157-4dd7-a2e0-de01b1a893d0",
   "metadata": {},
   "source": [
    "### Step4 - Activate agent sweep"
   ]
  },
  {
   "cell_type": "code",
   "execution_count": 13,
   "id": "f5a9cb34-27b4-4b75-ac90-f7cb3bc27b5d",
   "metadata": {
    "tags": []
   },
   "outputs": [
    {
     "name": "stderr",
     "output_type": "stream",
     "text": [
      "\u001b[34m\u001b[1mwandb\u001b[0m: Agent Starting Run: 61vll1yd with config:\n",
      "\u001b[34m\u001b[1mwandb\u001b[0m: \tbatch_size: 72\n",
      "\u001b[34m\u001b[1mwandb\u001b[0m: \tdropout: 0.4\n",
      "\u001b[34m\u001b[1mwandb\u001b[0m: \tepochs: 1\n",
      "\u001b[34m\u001b[1mwandb\u001b[0m: \tfc_layer_size: 256\n",
      "\u001b[34m\u001b[1mwandb\u001b[0m: \tlearning_rate: 0.03006346292345613\n",
      "\u001b[34m\u001b[1mwandb\u001b[0m: \toptimizer: sgd\n",
      "\u001b[34m\u001b[1mwandb\u001b[0m: \u001b[32m\u001b[41mERROR\u001b[0m Failed to detect the name of this notebook. You can set it manually with the WANDB_NOTEBOOK_NAME environment variable to enable code saving.\n"
     ]
    },
    {
     "data": {
      "text/html": [
       "Tracking run with wandb version 0.19.10"
      ],
      "text/plain": [
       "<IPython.core.display.HTML object>"
      ]
     },
     "metadata": {},
     "output_type": "display_data"
    },
    {
     "data": {
      "text/html": [
       "Run data is saved locally in <code>/home/jupyter/wandb/run-20250428_221226-61vll1yd</code>"
      ],
      "text/plain": [
       "<IPython.core.display.HTML object>"
      ]
     },
     "metadata": {},
     "output_type": "display_data"
    },
    {
     "data": {
      "text/html": [
       "Syncing run <strong><a href='https://wandb.ai/paul-mriganka-personal/pytorch-sweeps-demo/runs/61vll1yd' target=\"_blank\">lilac-sweep-1</a></strong> to <a href='https://wandb.ai/paul-mriganka-personal/pytorch-sweeps-demo' target=\"_blank\">Weights & Biases</a> (<a href='https://wandb.me/developer-guide' target=\"_blank\">docs</a>)<br>Sweep page: <a href='https://wandb.ai/paul-mriganka-personal/pytorch-sweeps-demo/sweeps/kxjxl91q' target=\"_blank\">https://wandb.ai/paul-mriganka-personal/pytorch-sweeps-demo/sweeps/kxjxl91q</a>"
      ],
      "text/plain": [
       "<IPython.core.display.HTML object>"
      ]
     },
     "metadata": {},
     "output_type": "display_data"
    },
    {
     "data": {
      "text/html": [
       " View project at <a href='https://wandb.ai/paul-mriganka-personal/pytorch-sweeps-demo' target=\"_blank\">https://wandb.ai/paul-mriganka-personal/pytorch-sweeps-demo</a>"
      ],
      "text/plain": [
       "<IPython.core.display.HTML object>"
      ]
     },
     "metadata": {},
     "output_type": "display_data"
    },
    {
     "data": {
      "text/html": [
       " View sweep at <a href='https://wandb.ai/paul-mriganka-personal/pytorch-sweeps-demo/sweeps/kxjxl91q' target=\"_blank\">https://wandb.ai/paul-mriganka-personal/pytorch-sweeps-demo/sweeps/kxjxl91q</a>"
      ],
      "text/plain": [
       "<IPython.core.display.HTML object>"
      ]
     },
     "metadata": {},
     "output_type": "display_data"
    },
    {
     "data": {
      "text/html": [
       " View run at <a href='https://wandb.ai/paul-mriganka-personal/pytorch-sweeps-demo/runs/61vll1yd' target=\"_blank\">https://wandb.ai/paul-mriganka-personal/pytorch-sweeps-demo/runs/61vll1yd</a>"
      ],
      "text/plain": [
       "<IPython.core.display.HTML object>"
      ]
     },
     "metadata": {},
     "output_type": "display_data"
    },
    {
     "data": {
      "text/html": [],
      "text/plain": [
       "<IPython.core.display.HTML object>"
      ]
     },
     "metadata": {},
     "output_type": "display_data"
    },
    {
     "data": {
      "text/html": [
       "<br>    <style><br>        .wandb-row {<br>            display: flex;<br>            flex-direction: row;<br>            flex-wrap: wrap;<br>            justify-content: flex-start;<br>            width: 100%;<br>        }<br>        .wandb-col {<br>            display: flex;<br>            flex-direction: column;<br>            flex-basis: 100%;<br>            flex: 1;<br>            padding: 10px;<br>        }<br>    </style><br><div class=\"wandb-row\"><div class=\"wandb-col\"><h3>Run history:</h3><br/><table class=\"wandb\"><tr><td>batch loss</td><td>█▇▇▅▄▃▂▃▂▂▂▃▂▂▃▂▂▂▂▂▁▁▁▂▂▂▂▁▁▁▂▁▂▂▂▁▂▂▂▁</td></tr><tr><td>epoch</td><td>▁</td></tr><tr><td>loss</td><td>▁</td></tr></table><br/></div><div class=\"wandb-col\"><h3>Run summary:</h3><br/><table class=\"wandb\"><tr><td>batch loss</td><td>0.39545</td></tr><tr><td>epoch</td><td>0</td></tr><tr><td>loss</td><td>0.51748</td></tr></table><br/></div></div>"
      ],
      "text/plain": [
       "<IPython.core.display.HTML object>"
      ]
     },
     "metadata": {},
     "output_type": "display_data"
    },
    {
     "data": {
      "text/html": [
       " View run <strong style=\"color:#cdcd00\">lilac-sweep-1</strong> at: <a href='https://wandb.ai/paul-mriganka-personal/pytorch-sweeps-demo/runs/61vll1yd' target=\"_blank\">https://wandb.ai/paul-mriganka-personal/pytorch-sweeps-demo/runs/61vll1yd</a><br> View project at: <a href='https://wandb.ai/paul-mriganka-personal/pytorch-sweeps-demo' target=\"_blank\">https://wandb.ai/paul-mriganka-personal/pytorch-sweeps-demo</a><br>Synced 5 W&B file(s), 0 media file(s), 0 artifact file(s) and 0 other file(s)"
      ],
      "text/plain": [
       "<IPython.core.display.HTML object>"
      ]
     },
     "metadata": {},
     "output_type": "display_data"
    },
    {
     "data": {
      "text/html": [
       "Find logs at: <code>./wandb/run-20250428_221226-61vll1yd/logs</code>"
      ],
      "text/plain": [
       "<IPython.core.display.HTML object>"
      ]
     },
     "metadata": {},
     "output_type": "display_data"
    },
    {
     "name": "stderr",
     "output_type": "stream",
     "text": [
      "\u001b[34m\u001b[1mwandb\u001b[0m: Agent Starting Run: ddycp3lc with config:\n",
      "\u001b[34m\u001b[1mwandb\u001b[0m: \tbatch_size: 64\n",
      "\u001b[34m\u001b[1mwandb\u001b[0m: \tdropout: 0.4\n",
      "\u001b[34m\u001b[1mwandb\u001b[0m: \tepochs: 1\n",
      "\u001b[34m\u001b[1mwandb\u001b[0m: \tfc_layer_size: 256\n",
      "\u001b[34m\u001b[1mwandb\u001b[0m: \tlearning_rate: 0.007744542161560186\n",
      "\u001b[34m\u001b[1mwandb\u001b[0m: \toptimizer: sgd\n",
      "\u001b[34m\u001b[1mwandb\u001b[0m: \u001b[32m\u001b[41mERROR\u001b[0m Failed to detect the name of this notebook. You can set it manually with the WANDB_NOTEBOOK_NAME environment variable to enable code saving.\n"
     ]
    },
    {
     "data": {
      "text/html": [
       "Tracking run with wandb version 0.19.10"
      ],
      "text/plain": [
       "<IPython.core.display.HTML object>"
      ]
     },
     "metadata": {},
     "output_type": "display_data"
    },
    {
     "data": {
      "text/html": [
       "Run data is saved locally in <code>/home/jupyter/wandb/run-20250428_221231-ddycp3lc</code>"
      ],
      "text/plain": [
       "<IPython.core.display.HTML object>"
      ]
     },
     "metadata": {},
     "output_type": "display_data"
    },
    {
     "data": {
      "text/html": [
       "Syncing run <strong><a href='https://wandb.ai/paul-mriganka-personal/pytorch-sweeps-demo/runs/ddycp3lc' target=\"_blank\">zesty-sweep-2</a></strong> to <a href='https://wandb.ai/paul-mriganka-personal/pytorch-sweeps-demo' target=\"_blank\">Weights & Biases</a> (<a href='https://wandb.me/developer-guide' target=\"_blank\">docs</a>)<br>Sweep page: <a href='https://wandb.ai/paul-mriganka-personal/pytorch-sweeps-demo/sweeps/kxjxl91q' target=\"_blank\">https://wandb.ai/paul-mriganka-personal/pytorch-sweeps-demo/sweeps/kxjxl91q</a>"
      ],
      "text/plain": [
       "<IPython.core.display.HTML object>"
      ]
     },
     "metadata": {},
     "output_type": "display_data"
    },
    {
     "data": {
      "text/html": [
       " View project at <a href='https://wandb.ai/paul-mriganka-personal/pytorch-sweeps-demo' target=\"_blank\">https://wandb.ai/paul-mriganka-personal/pytorch-sweeps-demo</a>"
      ],
      "text/plain": [
       "<IPython.core.display.HTML object>"
      ]
     },
     "metadata": {},
     "output_type": "display_data"
    },
    {
     "data": {
      "text/html": [
       " View sweep at <a href='https://wandb.ai/paul-mriganka-personal/pytorch-sweeps-demo/sweeps/kxjxl91q' target=\"_blank\">https://wandb.ai/paul-mriganka-personal/pytorch-sweeps-demo/sweeps/kxjxl91q</a>"
      ],
      "text/plain": [
       "<IPython.core.display.HTML object>"
      ]
     },
     "metadata": {},
     "output_type": "display_data"
    },
    {
     "data": {
      "text/html": [
       " View run at <a href='https://wandb.ai/paul-mriganka-personal/pytorch-sweeps-demo/runs/ddycp3lc' target=\"_blank\">https://wandb.ai/paul-mriganka-personal/pytorch-sweeps-demo/runs/ddycp3lc</a>"
      ],
      "text/plain": [
       "<IPython.core.display.HTML object>"
      ]
     },
     "metadata": {},
     "output_type": "display_data"
    },
    {
     "data": {
      "text/html": [],
      "text/plain": [
       "<IPython.core.display.HTML object>"
      ]
     },
     "metadata": {},
     "output_type": "display_data"
    },
    {
     "data": {
      "text/html": [
       "<br>    <style><br>        .wandb-row {<br>            display: flex;<br>            flex-direction: row;<br>            flex-wrap: wrap;<br>            justify-content: flex-start;<br>            width: 100%;<br>        }<br>        .wandb-col {<br>            display: flex;<br>            flex-direction: column;<br>            flex-basis: 100%;<br>            flex: 1;<br>            padding: 10px;<br>        }<br>    </style><br><div class=\"wandb-row\"><div class=\"wandb-col\"><h3>Run history:</h3><br/><table class=\"wandb\"><tr><td>batch loss</td><td>██▇▆▆▂▃▂▃▃▃▂▂▂▂▂▂▂▃▂▃▂▂▂▂▁▂▂▂▂▁▂▂▁▁▁▁▂▁▁</td></tr><tr><td>epoch</td><td>▁</td></tr><tr><td>loss</td><td>▁</td></tr></table><br/></div><div class=\"wandb-col\"><h3>Run summary:</h3><br/><table class=\"wandb\"><tr><td>batch loss</td><td>0.50548</td></tr><tr><td>epoch</td><td>0</td></tr><tr><td>loss</td><td>0.62907</td></tr></table><br/></div></div>"
      ],
      "text/plain": [
       "<IPython.core.display.HTML object>"
      ]
     },
     "metadata": {},
     "output_type": "display_data"
    },
    {
     "data": {
      "text/html": [
       " View run <strong style=\"color:#cdcd00\">zesty-sweep-2</strong> at: <a href='https://wandb.ai/paul-mriganka-personal/pytorch-sweeps-demo/runs/ddycp3lc' target=\"_blank\">https://wandb.ai/paul-mriganka-personal/pytorch-sweeps-demo/runs/ddycp3lc</a><br> View project at: <a href='https://wandb.ai/paul-mriganka-personal/pytorch-sweeps-demo' target=\"_blank\">https://wandb.ai/paul-mriganka-personal/pytorch-sweeps-demo</a><br>Synced 5 W&B file(s), 0 media file(s), 0 artifact file(s) and 0 other file(s)"
      ],
      "text/plain": [
       "<IPython.core.display.HTML object>"
      ]
     },
     "metadata": {},
     "output_type": "display_data"
    },
    {
     "data": {
      "text/html": [
       "Find logs at: <code>./wandb/run-20250428_221231-ddycp3lc/logs</code>"
      ],
      "text/plain": [
       "<IPython.core.display.HTML object>"
      ]
     },
     "metadata": {},
     "output_type": "display_data"
    },
    {
     "name": "stderr",
     "output_type": "stream",
     "text": [
      "\u001b[34m\u001b[1mwandb\u001b[0m: Agent Starting Run: 9vuihrju with config:\n",
      "\u001b[34m\u001b[1mwandb\u001b[0m: \tbatch_size: 64\n",
      "\u001b[34m\u001b[1mwandb\u001b[0m: \tdropout: 0.3\n",
      "\u001b[34m\u001b[1mwandb\u001b[0m: \tepochs: 1\n",
      "\u001b[34m\u001b[1mwandb\u001b[0m: \tfc_layer_size: 256\n",
      "\u001b[34m\u001b[1mwandb\u001b[0m: \tlearning_rate: 0.05482267565538044\n",
      "\u001b[34m\u001b[1mwandb\u001b[0m: \toptimizer: adam\n",
      "\u001b[34m\u001b[1mwandb\u001b[0m: \u001b[32m\u001b[41mERROR\u001b[0m Failed to detect the name of this notebook. You can set it manually with the WANDB_NOTEBOOK_NAME environment variable to enable code saving.\n"
     ]
    },
    {
     "data": {
      "text/html": [
       "Tracking run with wandb version 0.19.10"
      ],
      "text/plain": [
       "<IPython.core.display.HTML object>"
      ]
     },
     "metadata": {},
     "output_type": "display_data"
    },
    {
     "data": {
      "text/html": [
       "Run data is saved locally in <code>/home/jupyter/wandb/run-20250428_221236-9vuihrju</code>"
      ],
      "text/plain": [
       "<IPython.core.display.HTML object>"
      ]
     },
     "metadata": {},
     "output_type": "display_data"
    },
    {
     "data": {
      "text/html": [
       "Syncing run <strong><a href='https://wandb.ai/paul-mriganka-personal/pytorch-sweeps-demo/runs/9vuihrju' target=\"_blank\">wandering-sweep-3</a></strong> to <a href='https://wandb.ai/paul-mriganka-personal/pytorch-sweeps-demo' target=\"_blank\">Weights & Biases</a> (<a href='https://wandb.me/developer-guide' target=\"_blank\">docs</a>)<br>Sweep page: <a href='https://wandb.ai/paul-mriganka-personal/pytorch-sweeps-demo/sweeps/kxjxl91q' target=\"_blank\">https://wandb.ai/paul-mriganka-personal/pytorch-sweeps-demo/sweeps/kxjxl91q</a>"
      ],
      "text/plain": [
       "<IPython.core.display.HTML object>"
      ]
     },
     "metadata": {},
     "output_type": "display_data"
    },
    {
     "data": {
      "text/html": [
       " View project at <a href='https://wandb.ai/paul-mriganka-personal/pytorch-sweeps-demo' target=\"_blank\">https://wandb.ai/paul-mriganka-personal/pytorch-sweeps-demo</a>"
      ],
      "text/plain": [
       "<IPython.core.display.HTML object>"
      ]
     },
     "metadata": {},
     "output_type": "display_data"
    },
    {
     "data": {
      "text/html": [
       " View sweep at <a href='https://wandb.ai/paul-mriganka-personal/pytorch-sweeps-demo/sweeps/kxjxl91q' target=\"_blank\">https://wandb.ai/paul-mriganka-personal/pytorch-sweeps-demo/sweeps/kxjxl91q</a>"
      ],
      "text/plain": [
       "<IPython.core.display.HTML object>"
      ]
     },
     "metadata": {},
     "output_type": "display_data"
    },
    {
     "data": {
      "text/html": [
       " View run at <a href='https://wandb.ai/paul-mriganka-personal/pytorch-sweeps-demo/runs/9vuihrju' target=\"_blank\">https://wandb.ai/paul-mriganka-personal/pytorch-sweeps-demo/runs/9vuihrju</a>"
      ],
      "text/plain": [
       "<IPython.core.display.HTML object>"
      ]
     },
     "metadata": {},
     "output_type": "display_data"
    },
    {
     "data": {
      "text/html": [],
      "text/plain": [
       "<IPython.core.display.HTML object>"
      ]
     },
     "metadata": {},
     "output_type": "display_data"
    },
    {
     "data": {
      "text/html": [
       "<br>    <style><br>        .wandb-row {<br>            display: flex;<br>            flex-direction: row;<br>            flex-wrap: wrap;<br>            justify-content: flex-start;<br>            width: 100%;<br>        }<br>        .wandb-col {<br>            display: flex;<br>            flex-direction: column;<br>            flex-basis: 100%;<br>            flex: 1;<br>            padding: 10px;<br>        }<br>    </style><br><div class=\"wandb-row\"><div class=\"wandb-col\"><h3>Run history:</h3><br/><table class=\"wandb\"><tr><td>batch loss</td><td>▁█▃▁▁▁▁▁▁▁▁▁▁▁▁▁▁▁▁▁▁▁▁▁▁▁▁▁▁▁▁▁▁▁▁▁▁▁▁▁</td></tr><tr><td>epoch</td><td>▁</td></tr><tr><td>loss</td><td>▁</td></tr></table><br/></div><div class=\"wandb-col\"><h3>Run summary:</h3><br/><table class=\"wandb\"><tr><td>batch loss</td><td>0.99991</td></tr><tr><td>epoch</td><td>0</td></tr><tr><td>loss</td><td>2.51909</td></tr></table><br/></div></div>"
      ],
      "text/plain": [
       "<IPython.core.display.HTML object>"
      ]
     },
     "metadata": {},
     "output_type": "display_data"
    },
    {
     "data": {
      "text/html": [
       " View run <strong style=\"color:#cdcd00\">wandering-sweep-3</strong> at: <a href='https://wandb.ai/paul-mriganka-personal/pytorch-sweeps-demo/runs/9vuihrju' target=\"_blank\">https://wandb.ai/paul-mriganka-personal/pytorch-sweeps-demo/runs/9vuihrju</a><br> View project at: <a href='https://wandb.ai/paul-mriganka-personal/pytorch-sweeps-demo' target=\"_blank\">https://wandb.ai/paul-mriganka-personal/pytorch-sweeps-demo</a><br>Synced 5 W&B file(s), 0 media file(s), 0 artifact file(s) and 0 other file(s)"
      ],
      "text/plain": [
       "<IPython.core.display.HTML object>"
      ]
     },
     "metadata": {},
     "output_type": "display_data"
    },
    {
     "data": {
      "text/html": [
       "Find logs at: <code>./wandb/run-20250428_221236-9vuihrju/logs</code>"
      ],
      "text/plain": [
       "<IPython.core.display.HTML object>"
      ]
     },
     "metadata": {},
     "output_type": "display_data"
    },
    {
     "name": "stderr",
     "output_type": "stream",
     "text": [
      "\u001b[34m\u001b[1mwandb\u001b[0m: Agent Starting Run: t7wxpxwp with config:\n",
      "\u001b[34m\u001b[1mwandb\u001b[0m: \tbatch_size: 152\n",
      "\u001b[34m\u001b[1mwandb\u001b[0m: \tdropout: 0.3\n",
      "\u001b[34m\u001b[1mwandb\u001b[0m: \tepochs: 1\n",
      "\u001b[34m\u001b[1mwandb\u001b[0m: \tfc_layer_size: 128\n",
      "\u001b[34m\u001b[1mwandb\u001b[0m: \tlearning_rate: 0.04476580258381418\n",
      "\u001b[34m\u001b[1mwandb\u001b[0m: \toptimizer: sgd\n",
      "\u001b[34m\u001b[1mwandb\u001b[0m: \u001b[32m\u001b[41mERROR\u001b[0m Failed to detect the name of this notebook. You can set it manually with the WANDB_NOTEBOOK_NAME environment variable to enable code saving.\n"
     ]
    },
    {
     "data": {
      "text/html": [
       "Tracking run with wandb version 0.19.10"
      ],
      "text/plain": [
       "<IPython.core.display.HTML object>"
      ]
     },
     "metadata": {},
     "output_type": "display_data"
    },
    {
     "data": {
      "text/html": [
       "Run data is saved locally in <code>/home/jupyter/wandb/run-20250428_221241-t7wxpxwp</code>"
      ],
      "text/plain": [
       "<IPython.core.display.HTML object>"
      ]
     },
     "metadata": {},
     "output_type": "display_data"
    },
    {
     "data": {
      "text/html": [
       "Syncing run <strong><a href='https://wandb.ai/paul-mriganka-personal/pytorch-sweeps-demo/runs/t7wxpxwp' target=\"_blank\">divine-sweep-4</a></strong> to <a href='https://wandb.ai/paul-mriganka-personal/pytorch-sweeps-demo' target=\"_blank\">Weights & Biases</a> (<a href='https://wandb.me/developer-guide' target=\"_blank\">docs</a>)<br>Sweep page: <a href='https://wandb.ai/paul-mriganka-personal/pytorch-sweeps-demo/sweeps/kxjxl91q' target=\"_blank\">https://wandb.ai/paul-mriganka-personal/pytorch-sweeps-demo/sweeps/kxjxl91q</a>"
      ],
      "text/plain": [
       "<IPython.core.display.HTML object>"
      ]
     },
     "metadata": {},
     "output_type": "display_data"
    },
    {
     "data": {
      "text/html": [
       " View project at <a href='https://wandb.ai/paul-mriganka-personal/pytorch-sweeps-demo' target=\"_blank\">https://wandb.ai/paul-mriganka-personal/pytorch-sweeps-demo</a>"
      ],
      "text/plain": [
       "<IPython.core.display.HTML object>"
      ]
     },
     "metadata": {},
     "output_type": "display_data"
    },
    {
     "data": {
      "text/html": [
       " View sweep at <a href='https://wandb.ai/paul-mriganka-personal/pytorch-sweeps-demo/sweeps/kxjxl91q' target=\"_blank\">https://wandb.ai/paul-mriganka-personal/pytorch-sweeps-demo/sweeps/kxjxl91q</a>"
      ],
      "text/plain": [
       "<IPython.core.display.HTML object>"
      ]
     },
     "metadata": {},
     "output_type": "display_data"
    },
    {
     "data": {
      "text/html": [
       " View run at <a href='https://wandb.ai/paul-mriganka-personal/pytorch-sweeps-demo/runs/t7wxpxwp' target=\"_blank\">https://wandb.ai/paul-mriganka-personal/pytorch-sweeps-demo/runs/t7wxpxwp</a>"
      ],
      "text/plain": [
       "<IPython.core.display.HTML object>"
      ]
     },
     "metadata": {},
     "output_type": "display_data"
    },
    {
     "data": {
      "text/html": [],
      "text/plain": [
       "<IPython.core.display.HTML object>"
      ]
     },
     "metadata": {},
     "output_type": "display_data"
    },
    {
     "data": {
      "text/html": [
       "<br>    <style><br>        .wandb-row {<br>            display: flex;<br>            flex-direction: row;<br>            flex-wrap: wrap;<br>            justify-content: flex-start;<br>            width: 100%;<br>        }<br>        .wandb-col {<br>            display: flex;<br>            flex-direction: column;<br>            flex-basis: 100%;<br>            flex: 1;<br>            padding: 10px;<br>        }<br>    </style><br><div class=\"wandb-row\"><div class=\"wandb-col\"><h3>Run history:</h3><br/><table class=\"wandb\"><tr><td>batch loss</td><td>██▇▆▅▄▂▃▃▃▃▂▂▃▂▂▂▂▂▃▁▂▁▁▂▁▁▂▁▁▂▁▂▂▁▁▂▁▁▁</td></tr><tr><td>epoch</td><td>▁</td></tr><tr><td>loss</td><td>▁</td></tr></table><br/></div><div class=\"wandb-col\"><h3>Run summary:</h3><br/><table class=\"wandb\"><tr><td>batch loss</td><td>0.32609</td></tr><tr><td>epoch</td><td>0</td></tr><tr><td>loss</td><td>0.62087</td></tr></table><br/></div></div>"
      ],
      "text/plain": [
       "<IPython.core.display.HTML object>"
      ]
     },
     "metadata": {},
     "output_type": "display_data"
    },
    {
     "data": {
      "text/html": [
       " View run <strong style=\"color:#cdcd00\">divine-sweep-4</strong> at: <a href='https://wandb.ai/paul-mriganka-personal/pytorch-sweeps-demo/runs/t7wxpxwp' target=\"_blank\">https://wandb.ai/paul-mriganka-personal/pytorch-sweeps-demo/runs/t7wxpxwp</a><br> View project at: <a href='https://wandb.ai/paul-mriganka-personal/pytorch-sweeps-demo' target=\"_blank\">https://wandb.ai/paul-mriganka-personal/pytorch-sweeps-demo</a><br>Synced 5 W&B file(s), 0 media file(s), 0 artifact file(s) and 0 other file(s)"
      ],
      "text/plain": [
       "<IPython.core.display.HTML object>"
      ]
     },
     "metadata": {},
     "output_type": "display_data"
    },
    {
     "data": {
      "text/html": [
       "Find logs at: <code>./wandb/run-20250428_221241-t7wxpxwp/logs</code>"
      ],
      "text/plain": [
       "<IPython.core.display.HTML object>"
      ]
     },
     "metadata": {},
     "output_type": "display_data"
    },
    {
     "name": "stderr",
     "output_type": "stream",
     "text": [
      "\u001b[34m\u001b[1mwandb\u001b[0m: Agent Starting Run: lcur7ifm with config:\n",
      "\u001b[34m\u001b[1mwandb\u001b[0m: \tbatch_size: 72\n",
      "\u001b[34m\u001b[1mwandb\u001b[0m: \tdropout: 0.4\n",
      "\u001b[34m\u001b[1mwandb\u001b[0m: \tepochs: 1\n",
      "\u001b[34m\u001b[1mwandb\u001b[0m: \tfc_layer_size: 512\n",
      "\u001b[34m\u001b[1mwandb\u001b[0m: \tlearning_rate: 0.08963112369012943\n",
      "\u001b[34m\u001b[1mwandb\u001b[0m: \toptimizer: sgd\n",
      "\u001b[34m\u001b[1mwandb\u001b[0m: \u001b[32m\u001b[41mERROR\u001b[0m Failed to detect the name of this notebook. You can set it manually with the WANDB_NOTEBOOK_NAME environment variable to enable code saving.\n"
     ]
    },
    {
     "data": {
      "text/html": [
       "Tracking run with wandb version 0.19.10"
      ],
      "text/plain": [
       "<IPython.core.display.HTML object>"
      ]
     },
     "metadata": {},
     "output_type": "display_data"
    },
    {
     "data": {
      "text/html": [
       "Run data is saved locally in <code>/home/jupyter/wandb/run-20250428_221247-lcur7ifm</code>"
      ],
      "text/plain": [
       "<IPython.core.display.HTML object>"
      ]
     },
     "metadata": {},
     "output_type": "display_data"
    },
    {
     "data": {
      "text/html": [
       "Syncing run <strong><a href='https://wandb.ai/paul-mriganka-personal/pytorch-sweeps-demo/runs/lcur7ifm' target=\"_blank\">deft-sweep-5</a></strong> to <a href='https://wandb.ai/paul-mriganka-personal/pytorch-sweeps-demo' target=\"_blank\">Weights & Biases</a> (<a href='https://wandb.me/developer-guide' target=\"_blank\">docs</a>)<br>Sweep page: <a href='https://wandb.ai/paul-mriganka-personal/pytorch-sweeps-demo/sweeps/kxjxl91q' target=\"_blank\">https://wandb.ai/paul-mriganka-personal/pytorch-sweeps-demo/sweeps/kxjxl91q</a>"
      ],
      "text/plain": [
       "<IPython.core.display.HTML object>"
      ]
     },
     "metadata": {},
     "output_type": "display_data"
    },
    {
     "data": {
      "text/html": [
       " View project at <a href='https://wandb.ai/paul-mriganka-personal/pytorch-sweeps-demo' target=\"_blank\">https://wandb.ai/paul-mriganka-personal/pytorch-sweeps-demo</a>"
      ],
      "text/plain": [
       "<IPython.core.display.HTML object>"
      ]
     },
     "metadata": {},
     "output_type": "display_data"
    },
    {
     "data": {
      "text/html": [
       " View sweep at <a href='https://wandb.ai/paul-mriganka-personal/pytorch-sweeps-demo/sweeps/kxjxl91q' target=\"_blank\">https://wandb.ai/paul-mriganka-personal/pytorch-sweeps-demo/sweeps/kxjxl91q</a>"
      ],
      "text/plain": [
       "<IPython.core.display.HTML object>"
      ]
     },
     "metadata": {},
     "output_type": "display_data"
    },
    {
     "data": {
      "text/html": [
       " View run at <a href='https://wandb.ai/paul-mriganka-personal/pytorch-sweeps-demo/runs/lcur7ifm' target=\"_blank\">https://wandb.ai/paul-mriganka-personal/pytorch-sweeps-demo/runs/lcur7ifm</a>"
      ],
      "text/plain": [
       "<IPython.core.display.HTML object>"
      ]
     },
     "metadata": {},
     "output_type": "display_data"
    },
    {
     "data": {
      "text/html": [],
      "text/plain": [
       "<IPython.core.display.HTML object>"
      ]
     },
     "metadata": {},
     "output_type": "display_data"
    },
    {
     "data": {
      "text/html": [
       "<br>    <style><br>        .wandb-row {<br>            display: flex;<br>            flex-direction: row;<br>            flex-wrap: wrap;<br>            justify-content: flex-start;<br>            width: 100%;<br>        }<br>        .wandb-col {<br>            display: flex;<br>            flex-direction: column;<br>            flex-basis: 100%;<br>            flex: 1;<br>            padding: 10px;<br>        }<br>    </style><br><div class=\"wandb-row\"><div class=\"wandb-col\"><h3>Run history:</h3><br/><table class=\"wandb\"><tr><td>batch loss</td><td>█▅▃▄▂▃▃▂▂▂▂▂▃▂▄▃▂▂▂▃▃▂▂▂▃▂▃▂▁▂▁▂▃▂▂▁▃▁▂▁</td></tr><tr><td>epoch</td><td>▁</td></tr><tr><td>loss</td><td>▁</td></tr></table><br/></div><div class=\"wandb-col\"><h3>Run summary:</h3><br/><table class=\"wandb\"><tr><td>batch loss</td><td>0.35176</td></tr><tr><td>epoch</td><td>0</td></tr><tr><td>loss</td><td>0.74354</td></tr></table><br/></div></div>"
      ],
      "text/plain": [
       "<IPython.core.display.HTML object>"
      ]
     },
     "metadata": {},
     "output_type": "display_data"
    },
    {
     "data": {
      "text/html": [
       " View run <strong style=\"color:#cdcd00\">deft-sweep-5</strong> at: <a href='https://wandb.ai/paul-mriganka-personal/pytorch-sweeps-demo/runs/lcur7ifm' target=\"_blank\">https://wandb.ai/paul-mriganka-personal/pytorch-sweeps-demo/runs/lcur7ifm</a><br> View project at: <a href='https://wandb.ai/paul-mriganka-personal/pytorch-sweeps-demo' target=\"_blank\">https://wandb.ai/paul-mriganka-personal/pytorch-sweeps-demo</a><br>Synced 5 W&B file(s), 0 media file(s), 0 artifact file(s) and 0 other file(s)"
      ],
      "text/plain": [
       "<IPython.core.display.HTML object>"
      ]
     },
     "metadata": {},
     "output_type": "display_data"
    },
    {
     "data": {
      "text/html": [
       "Find logs at: <code>./wandb/run-20250428_221247-lcur7ifm/logs</code>"
      ],
      "text/plain": [
       "<IPython.core.display.HTML object>"
      ]
     },
     "metadata": {},
     "output_type": "display_data"
    }
   ],
   "source": [
    "wandb.agent(sweep_id, train, count=5)"
   ]
  },
  {
   "cell_type": "markdown",
   "id": "f5a17b06-358f-4d85-86b8-1cba564b2b57",
   "metadata": {},
   "source": [
    "#### Parallel coordinates plot"
   ]
  },
  {
   "attachments": {
    "280250f3-37cf-4ad6-9388-45709052ad19.png": {
     "image/png": "[encoded data removed]"
    }
   },
   "cell_type": "markdown",
   "id": "a0742f7c-2fff-4352-bf30-abec1c26c3bc",
   "metadata": {},
   "source": [
    "![Screenshot 2025-04-28 at 6.17.54 PM.png](attachment:280250f3-37cf-4ad6-9388-45709052ad19.png)"
   ]
  },
  {
   "cell_type": "markdown",
   "id": "f61ab7c4-c0a6-44f5-b88d-5ef3df1f9850",
   "metadata": {},
   "source": [
    "#### Hyperparameter Importance Plot"
   ]
  },
  {
   "attachments": {
    "b3122164-9404-4acf-9d96-55a2e70e236b.png": {
     "image/png": "[encoded data removed]"
    }
   },
   "cell_type": "markdown",
   "id": "a3e4487c-a8a5-44ae-9097-478bdd8a02ec",
   "metadata": {},
   "source": [
    "![Screenshot 2025-04-28 at 6.18.58 PM.png](attachment:b3122164-9404-4acf-9d96-55a2e70e236b.png)"
   ]
  },
  {
   "cell_type": "code",
   "execution_count": null,
   "id": "cd25f860-bda9-44cd-b7eb-a8f7e4f29ced",
   "metadata": {},
   "outputs": [],
   "source": []
  }
 ],
 "metadata": {
  "environment": {
   "kernel": "python3",
   "name": "pytorch-gpu.2-4.m129",
   "type": "gcloud",
   "uri": "us-docker.pkg.dev/deeplearning-platform-release/gcr.io/pytorch-gpu.2-4:m129"
  },
  "kernelspec": {
   "display_name": "Python 3 (Local)",
   "language": "python",
   "name": "python3"
  },
  "language_info": {
   "codemirror_mode": {
    "name": "ipython",
    "version": 3
   },
   "file_extension": ".py",
   "mimetype": "text/x-python",
   "name": "python",
   "nbconvert_exporter": "python",
   "pygments_lexer": "ipython3",
   "version": "3.10.17"
  }
 },
 "nbformat": 4,
 "nbformat_minor": 5
}
