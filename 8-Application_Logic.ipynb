{
 "cells": [
  {
   "cell_type": "code",
   "execution_count": 1,
   "id": "c0521ec2-79ff-4daf-a0b1-480b0f8f554e",
   "metadata": {
    "tags": []
   },
   "outputs": [],
   "source": [
    "from dotenv import load_dotenv, find_dotenv\n",
    "_ = load_dotenv(find_dotenv())"
   ]
  },
  {
   "cell_type": "markdown",
   "id": "f833ad3e-d49e-4445-aa16-b942fec0c0e3",
   "metadata": {},
   "source": [
    "### Track Application Logic"
   ]
  },
  {
   "cell_type": "markdown",
   "id": "7b2b260c-8479-480a-9206-e96750c3ce4f",
   "metadata": {},
   "source": [
    "- ***Track data***\n",
    "- ***Track metadata***"
   ]
  },
  {
   "cell_type": "markdown",
   "id": "cdb8f8ab-b3ac-4fb7-9413-7ab9a25d64a8",
   "metadata": {},
   "source": [
    "#### Track nested function calls"
   ]
  },
  {
   "cell_type": "code",
   "execution_count": 2,
   "id": "afe78a49-d130-44f6-9d6e-69cb659d2d4c",
   "metadata": {
    "tags": []
   },
   "outputs": [],
   "source": [
    "import weave\n",
    "import json\n",
    "from openai import OpenAI"
   ]
  },
  {
   "cell_type": "code",
   "execution_count": 3,
   "id": "3ac59eba-09b6-4480-942e-ebbb161ed5e5",
   "metadata": {
    "tags": []
   },
   "outputs": [],
   "source": [
    "client = OpenAI()"
   ]
  },
  {
   "cell_type": "code",
   "execution_count": 4,
   "id": "4debc7fa-1ec3-4df3-87cf-a6dc6f17f9ea",
   "metadata": {
    "tags": []
   },
   "outputs": [],
   "source": [
    "@weave.op()\n",
    "def extract_dinos(sentence: str) -> dict:\n",
    "    response = client.chat.completions.create(\n",
    "        model = \"gpt-4o\",\n",
    "        messages = [\n",
    "            {\n",
    "                \"role\": \"system\",\n",
    "                \"content\": \"\"\"Extract any dinosaur `name`, their `common_name`, names and whether its `diet` is a herbivore or carnivore, in JSON format.\"\"\"\n",
    "            },\n",
    "            {\n",
    "                \"role\": \"user\",\n",
    "                \"content\": sentence\n",
    "            }\n",
    "        ],\n",
    "        response_format = {\"type\": \"json_object\"}\n",
    "    )\n",
    "    \n",
    "    return response.choices[0].message.content"
   ]
  },
  {
   "cell_type": "code",
   "execution_count": 5,
   "id": "0148b065-5ccd-47f1-b467-e7ba2c66acf6",
   "metadata": {
    "tags": []
   },
   "outputs": [],
   "source": [
    "@weave.op()\n",
    "def count_dinos(dino_data: dict) -> int:\n",
    "    # count the number of items in the returned list\n",
    "    k = list(dino_data.keys())[0]\n",
    "    return len(dino_data[k])"
   ]
  },
  {
   "cell_type": "code",
   "execution_count": 6,
   "id": "f21a87ec-b752-4c37-94df-62f061923395",
   "metadata": {
    "tags": []
   },
   "outputs": [],
   "source": [
    "@weave.op()\n",
    "def dino_tracker(sentence: str) -> dict:\n",
    "    # extract dinosaurs using a LLM\n",
    "    dino_data = extract_dinos(sentence)\n",
    "\n",
    "    # count the number of dinosaurs returned\n",
    "    dino_data = json.loads(dino_data)\n",
    "    n_dinos = count_dinos(dino_data)\n",
    "    return {\"n_dinosaurs\": n_dinos, \"dinosaurs\": dino_data}"
   ]
  },
  {
   "cell_type": "code",
   "execution_count": 7,
   "id": "04888342-e5ab-4460-9a02-34018f04b506",
   "metadata": {
    "tags": []
   },
   "outputs": [
    {
     "name": "stdout",
     "output_type": "stream",
     "text": [
      "Logged in as Weights & Biases user: paul-mriganka.\n",
      "View Weave data at https://wandb.ai/paul-mriganka-personal/jurassic-park/weave\n"
     ]
    },
    {
     "data": {
      "text/plain": [
       "<weave.trace.weave_client.WeaveClient at 0x7f035b92e770>"
      ]
     },
     "execution_count": 7,
     "metadata": {},
     "output_type": "execute_result"
    }
   ],
   "source": [
    "weave.init('jurassic-park')"
   ]
  },
  {
   "cell_type": "code",
   "execution_count": 8,
   "id": "f5132e2e-229d-4734-82e8-6820fa967bfd",
   "metadata": {
    "tags": []
   },
   "outputs": [
    {
     "name": "stdout",
     "output_type": "stream",
     "text": [
      "🍩 https://wandb.ai/paul-mriganka-personal/jurassic-park/r/call/019686f0-9088-72b3-a5a0-9e23a4199e76\n",
      "{'n_dinosaurs': 3, 'dinosaurs': {'dinosaurs': [{'name': 'Tyrannosaurus rex', 'common_name': 'T. rex', 'diet': 'carnivore'}, {'name': 'Triceratops', 'common_name': 'Trike', 'diet': 'herbivore'}, {'name': 'Brachiosaurus', 'common_name': 'Brachi', 'diet': 'herbivore'}]}}\n",
      "🍩 https://wandb.ai/paul-mriganka-personal/jurassic-park/r/call/019686f3-8dce-7081-a055-dffc3c0b8024\n"
     ]
    }
   ],
   "source": [
    "sentence = \"\"\"I watched as a Tyrannosaurus rex (T. rex) chased after a Triceratops (Trike), \\\n",
    "both carnivore and herbivore locked in an ancient dance. Meanwhile, a gentle giant \\\n",
    "Brachiosaurus (Brachi) calmly munched on treetops, blissfully unaware of the chaos below.\"\"\"\n",
    "\n",
    "result = dino_tracker(sentence)\n",
    "print(result)"
   ]
  },
  {
   "cell_type": "markdown",
   "id": "a8c216c2-3878-4417-8e6d-10955454d96c",
   "metadata": {},
   "source": [
    "#### Track metadata"
   ]
  },
  {
   "cell_type": "code",
   "execution_count": 9,
   "id": "133817c0-f69f-4833-8989-7dd4d2de5a24",
   "metadata": {
    "tags": []
   },
   "outputs": [],
   "source": [
    "# track metadata alongside our previously defined function\n",
    "with weave.attributes({'user_id': 'mriganka', 'env': 'sandbox'}):\n",
    "    result = dino_tracker(sentence)"
   ]
  },
  {
   "cell_type": "code",
   "execution_count": null,
   "id": "2aac9afa-4dc9-475d-b486-3dd066a00889",
   "metadata": {},
   "outputs": [],
   "source": []
  }
 ],
 "metadata": {
  "environment": {
   "kernel": "python3",
   "name": "pytorch-gpu.2-4.m129",
   "type": "gcloud",
   "uri": "us-docker.pkg.dev/deeplearning-platform-release/gcr.io/pytorch-gpu.2-4:m129"
  },
  "kernelspec": {
   "display_name": "Python 3 (Local)",
   "language": "python",
   "name": "python3"
  },
  "language_info": {
   "codemirror_mode": {
    "name": "ipython",
    "version": 3
   },
   "file_extension": ".py",
   "mimetype": "text/x-python",
   "name": "python",
   "nbconvert_exporter": "python",
   "pygments_lexer": "ipython3",
   "version": "3.10.17"
  }
 },
 "nbformat": 4,
 "nbformat_minor": 5
}
